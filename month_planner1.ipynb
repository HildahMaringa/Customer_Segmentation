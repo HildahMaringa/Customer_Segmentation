{
 "cells": [
  {
   "cell_type": "code",
   "execution_count": 10,
   "metadata": {},
   "outputs": [
    {
     "name": "stdout",
     "output_type": "stream",
     "text": [
      "FPDF imported successfully\n"
     ]
    }
   ],
   "source": [
    "from fpdf import FPDF\n",
    "print(\"FPDF imported successfully\")"
   ]
  },
  {
   "cell_type": "code",
   "execution_count": 11,
   "metadata": {},
   "outputs": [],
   "source": [
    "class MonthPlannerPDF(FPDF):\n",
    "    def header(self):\n",
    "        self.set_font('Arial', 'B', 12)\n",
    "        self.cell(0, 10, 'Monthly Planner', align='C',ln=True)\n",
    "\n",
    "    def footer(self):\n",
    "        self.set_y(-15)\n",
    "        self.set_font('Arial','I',8)\n",
    "        self.cell(0,10,f'Page{self.page_no()}', align='C')\n",
    "\n",
    "    def add_month_grid(self, month_name):\n",
    "        self.set_font('Arial', 'B', 14)\n",
    "        self.cell(0, 10, month_name, ln=True, align='C')\n",
    "        self.ln(10)\n",
    "\n",
    "        self.set_font('Arial', '', 10)\n",
    "        self.set_fill_color(240, 240, 240)\n",
    "        square_size = 25  # Size of each square in mm\n",
    "        days = 31  # Number of days in the month\n",
    "        cols = 7\n",
    "        rows = (days // cols) + (1 if days % cols else 0)\n",
    "\n",
    "        x_start = 10\n",
    "        y_start = self.get_y()\n",
    "        current_day = 1\n",
    "\n",
    "        for row in range(rows):\n",
    "            for col in range(cols):\n",
    "                x = x_start + (col * square_size)\n",
    "                y = y_start + (row * square_size)\n",
    "                self.rect(x, y, square_size, square_size)\n",
    "                if current_day <= days:\n",
    "                    self.set_xy(x + 2, y + 2)\n",
    "                    self.cell(square_size - 4, 10, str(current_day), border=0)\n",
    "                    current_day += 1\n",
    "\n",
    "        self.ln(rows * square_size + 10)\n",
    "        self.add_notes_section()\n",
    "\n",
    "    def add_notes_section(self):\n",
    "        self.set_font('Arial', 'B', 12)\n",
    "        self.cell(0, 10, 'Monthly Goals / Notes:', ln=True)\n",
    "        self.ln(5)\n",
    "        self.set_font('Arial', '', 10)\n",
    "        # Add blank lines instead of bullet points\n",
    "        for _ in range(5):\n",
    "            self.cell(0, 10, '_____________________________', ln=True)\n",
    "\n",
    "\n",
    "\n",
    "\n",
    "        "
   ]
  },
  {
   "cell_type": "code",
   "execution_count": 12,
   "metadata": {},
   "outputs": [],
   "source": [
    "# Generate the PDF again\n",
    "pdf = MonthPlannerPDF()\n",
    "pdf.add_page()\n",
    "pdf.add_month_grid(\"January 2025\")"
   ]
  },
  {
   "cell_type": "code",
   "execution_count": 13,
   "metadata": {},
   "outputs": [
    {
     "data": {
      "text/plain": [
       "''"
      ]
     },
     "execution_count": 13,
     "metadata": {},
     "output_type": "execute_result"
    }
   ],
   "source": [
    "# Save the fixed PDF\n",
    "pdf_file_path = \"/mnt/data/MonthPlanner_Template_Fixed.pdf\"\n",
    "pdf.output(\"C:\\\\Users\\\\ADMIN\\\\Desktop\\\\output.pdf\")\n"
   ]
  },
  {
   "cell_type": "code",
   "execution_count": 14,
   "metadata": {},
   "outputs": [],
   "source": [
    "import pandas as pd\n",
    "\n",
    "days = [f\"Day {i}\" for i in range(1, 32)]\n",
    "data = {\n",
    "    \"Date\": days,\n",
    "    \"Task/Notes\": [\"\" for _ in range(31)],\n",
    "}\n",
    "df = pd.DataFrame(data)"
   ]
  },
  {
   "cell_type": "code",
   "execution_count": 15,
   "metadata": {},
   "outputs": [
    {
     "name": "stdout",
     "output_type": "stream",
     "text": [
      "openpyxl is installed and accessible!\n"
     ]
    }
   ],
   "source": [
    "import openpyxl\n",
    "print(\"openpyxl is installed and accessible!\")\n"
   ]
  },
  {
   "cell_type": "code",
   "execution_count": 16,
   "metadata": {},
   "outputs": [
    {
     "data": {
      "text/plain": [
       "('/mnt/data/MonthPlanner_Template_Fixed.pdf',\n",
       " '/mnt/data/MonthPlanner_Template.xlsx')"
      ]
     },
     "execution_count": 16,
     "metadata": {},
     "output_type": "execute_result"
    }
   ],
   "source": [
    "# Save the Excel file\n",
    "excel_file_path = \"/mnt/data/MonthPlanner_Template.xlsx\"\n",
    "df.to_excel(\"C:\\\\Users\\\\ADMIN\\\\Desktop\\\\output.xlsx\", index=False)\n",
    "\n",
    "(pdf_file_path, excel_file_path)"
   ]
  }
 ],
 "metadata": {
  "kernelspec": {
   "display_name": "Python_DS",
   "language": "python",
   "name": "python3"
  },
  "language_info": {
   "codemirror_mode": {
    "name": "ipython",
    "version": 3
   },
   "file_extension": ".py",
   "mimetype": "text/x-python",
   "name": "python",
   "nbconvert_exporter": "python",
   "pygments_lexer": "ipython3",
   "version": "3.12.7"
  }
 },
 "nbformat": 4,
 "nbformat_minor": 2
}
